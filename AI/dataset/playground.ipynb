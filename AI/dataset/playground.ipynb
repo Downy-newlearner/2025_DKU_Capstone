{
 "cells": [
  {
   "cell_type": "code",
   "execution_count": 1,
   "metadata": {},
   "outputs": [
    {
     "name": "stdout",
     "output_type": "stream",
     "text": [
      "이미지 크기: 2480x3508\n"
     ]
    }
   ],
   "source": [
    "from PIL import Image\n",
    "\n",
    "# 이미지 파일 경로\n",
    "image_path = '/home/jdh251425/2025_DKU_Capstone/AI/dataset/labels_backup/train/1.jpg'\n",
    "\n",
    "# 이미지 열기\n",
    "with Image.open(image_path) as img:\n",
    "    # 이미지 크기 확인\n",
    "    width, height = img.size\n",
    "    print(f\"이미지 크기: {width}x{height}\")"
   ]
  },
  {
   "cell_type": "code",
   "execution_count": 1,
   "metadata": {},
   "outputs": [
    {
     "name": "stdout",
     "output_type": "stream",
     "text": [
      "이미지 크기: 1280x1280\n"
     ]
    }
   ],
   "source": [
    "from PIL import Image\n",
    "\n",
    "# 이미지 파일 경로\n",
    "image_path = '/home/jdh251425/2025_DKU_Capstone/AI/dataset/labels_backup/resized/1.jpg'\n",
    "\n",
    "# 이미지 열기\n",
    "with Image.open(image_path) as img:\n",
    "    # 이미지 크기 확인\n",
    "    width, height = img.size\n",
    "    print(f\"이미지 크기: {width}x{height}\")"
   ]
  }
 ],
 "metadata": {
  "language_info": {
   "name": "python"
  }
 },
 "nbformat": 4,
 "nbformat_minor": 2
}
